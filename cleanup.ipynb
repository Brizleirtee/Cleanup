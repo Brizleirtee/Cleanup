{
 "cells": [
  {
   "cell_type": "code",
   "execution_count": 11,
   "id": "1fe650a9",
   "metadata": {},
   "outputs": [
    {
     "data": {
      "text/plain": [
       "'C:\\\\Users\\\\Brizleir Tee\\\\Downloads'"
      ]
     },
     "execution_count": 11,
     "metadata": {},
     "output_type": "execute_result"
    }
   ],
   "source": [
    "import os\n",
    "import sys\n",
    "import datetime\n",
    "from pathlib import Path\n",
    "import time\n",
    "import os.path\n",
    "\"\"\"\n",
    "navigate to download folder\n",
    "date and time ,files in that date\n",
    "if the file is of current date not shipped to their ship them\n",
    "otherwise they are no directories or files\n",
    "\"\"\"\n",
    "os.getcwd()\n"
   ]
  },
  {
   "cell_type": "code",
   "execution_count": 12,
   "id": "f3a14438",
   "metadata": {},
   "outputs": [],
   "source": [
    "os.chdir('C:\\\\Users\\\\Brizleir Tee\\\\Downloads')"
   ]
  },
  {
   "cell_type": "code",
   "execution_count": 13,
   "id": "39b6fd21",
   "metadata": {},
   "outputs": [
    {
     "data": {
      "text/plain": [
       "'C:\\\\Users\\\\Brizleir Tee\\\\Downloads'"
      ]
     },
     "execution_count": 13,
     "metadata": {},
     "output_type": "execute_result"
    }
   ],
   "source": [
    "os.getcwd()"
   ]
  },
  {
   "cell_type": "code",
   "execution_count": 14,
   "id": "fecac9f6",
   "metadata": {},
   "outputs": [
    {
     "name": "stdout",
     "output_type": "stream",
     "text": [
      "no file at the moment\n"
     ]
    }
   ],
   "source": [
    "import shutil \n",
    "\n",
    "#making sure we are on the download folder\\\n",
    "if os.getcwd() == 'C:\\\\Users\\\\Brizleir Tee\\\\Downloads':\n",
    "    count = 0\n",
    "    images = [file for file in os.listdir('C:\\\\Users\\\\Brizleir Tee\\\\Downloads') if file.endswith('.png') or file.endswith('.jpg') or file.endswith('.JPEG')]\n",
    "    len(images)\n",
    "    music = [file for file in os.listdir('C:\\\\Users\\\\Brizleir Tee\\\\Downloads') if file.endswith('.mp3') or file.endswith('.wav') ]\n",
    "    len(music)\n",
    "    videos = [file for file in os.listdir('C:\\\\Users\\\\Brizleir Tee\\\\Downloads') if file.endswith('.mp4') or file.endswith(\"WEBM\")]\n",
    "    len(videos)\n",
    "    folders = [folder for folder in os.listdir('C:\\\\Users\\\\Brizleir Tee\\\\Downloads') if folder.endswith('rar') or folder.endswith('zip') ]\n",
    "    len(folders)\n",
    "    pdf_files = [ pdf for pdf in os.listdir('C:\\\\Users\\\\Brizleir Tee\\\\Downloads') if pdf.endswith('.docx') or pdf.endswith('.pdf') or pdf.endswith('.txt')]\n",
    "    len(pdf_files)\n",
    "    other_files = [other_f for other_f in os.listdir(\"C:\\\\Users\\\\Brizleir Tee\\\\Downloads\") if other_f.endswith('pptx') or other_f.endswith('xls') or other_f.endswith('.csv')]\n",
    "    len(other_files)\n",
    "    softwares = [software for software in os.listdir(\"C:\\\\Users\\\\Brizleir Tee\\\\Downloads\") if software.endswith('.exe')]\n",
    "    if len(images) >0:\n",
    "        for image in images:\n",
    "            new_path = \"D:\\\\new_images\\\\\" + image\n",
    "            old_path = 'C:\\\\Users\\\\Brizleir Tee\\\\Downloads\\\\' + image\n",
    "            shutil.move(old_path, new_path)\n",
    "            count = count + 1\n",
    "\n",
    "    elif len(music) > 0:\n",
    "        for song in music:\n",
    "            new_path = \"D:\\\\music downloads\\\\\" + song\n",
    "            old_path = 'C:\\\\Users\\\\Brizleir Tee\\\\Downloads\\\\' + song\n",
    "            shutil.move(old_path,new_path)\n",
    "            count = count + 1\n",
    "    elif len(videos) >0:\n",
    "        for vidz in videos:\n",
    "            new_path = \"D:\\\\New folder (2)\\\\\" + vidz\n",
    "            old_path = 'C:\\\\Users\\\\Brizleir Tee\\\\Downloads\\\\' + vidz\n",
    "            shutil.move(old_path,new_path)\n",
    "            count = couht + 1\n",
    "\n",
    "                # folders,pdf_files,other_files\n",
    "    elif len(folders) > 0:\n",
    "        for folder in folders:\n",
    "            new_path = \"D:\\\\folders\\\\\" + folder\n",
    "            old_path = 'C:\\\\Users\\\\Brizleir Tee\\\\Downloads\\\\' + folder\n",
    "            shutil.move(old_path,new_path)\n",
    "            count = count + 1\n",
    "            \n",
    "    elif len(pdf_files) >0:\n",
    "        for pdf in pdf_files:\n",
    "            new_path = \"D:\\\\pdfs\\\\\" + pdf\n",
    "            old_path = 'C:\\\\Users\\\\Brizleir Tee\\\\Downloads\\\\' + pdf\n",
    "            shutil.move(old_path,new_path)\n",
    "            count = count + 1\n",
    "                \n",
    "    elif len(other_files) > 0:\n",
    "        for pdf in other_files:\n",
    "            new_path = \"D:\\\\pdfs\\\\\" + pdf\n",
    "            old_path = 'C:\\\\Users\\\\Brizleir Tee\\\\Downloads\\\\' + pdf\n",
    "            shutil.move(old_path,new_path)\n",
    "            count = count + 1\n",
    "    elif len(softwares) > 0:\n",
    "        for software in softwares:\n",
    "            new_path = \"D:\\\\IDE'S\\\\\" + software\n",
    "            old_path = 'C:\\\\Users\\\\Brizleir Tee\\\\Downloads\\\\' + software\n",
    "            shutil.move(old_path,new_path)\n",
    "            count = count + 1\n",
    "    else:\n",
    "        print(\"no file at the moment\")\n",
    "        \n",
    "\n",
    "#num_of_files.append(count)\n",
    "\n",
    "epoch_time = time.time()\n",
    "local = time.localtime(epoch_time)\n",
    "if local.tm_hour == 16  :\n",
    "    print(\"Boom there are some files today\")\n",
    "\n",
    "\n",
    "    \n"
   ]
  },
  {
   "cell_type": "code",
   "execution_count": null,
   "id": "266481b9",
   "metadata": {},
   "outputs": [],
   "source": []
  },
  {
   "cell_type": "code",
   "execution_count": null,
   "id": "e3c939e8",
   "metadata": {},
   "outputs": [],
   "source": []
  }
 ],
 "metadata": {
  "kernelspec": {
   "display_name": "Python 3",
   "language": "python",
   "name": "python3"
  },
  "language_info": {
   "codemirror_mode": {
    "name": "ipython",
    "version": 3
   },
   "file_extension": ".py",
   "mimetype": "text/x-python",
   "name": "python",
   "nbconvert_exporter": "python",
   "pygments_lexer": "ipython3",
   "version": "3.8.8"
  }
 },
 "nbformat": 4,
 "nbformat_minor": 5
}
